{
 "cells": [
  {
   "cell_type": "markdown",
   "metadata": {},
   "source": [
    "# Python Basics"
   ]
  },
  {
   "cell_type": "markdown",
   "metadata": {},
   "source": [
    "### Hello World!"
   ]
  },
  {
   "cell_type": "code",
   "execution_count": 2,
   "metadata": {},
   "outputs": [
    {
     "name": "stdout",
     "output_type": "stream",
     "text": [
      "Hello World!\n"
     ]
    }
   ],
   "source": [
    "#print() display output \n",
    "#in case the output is string must use \" or '\n",
    "print(\"Hello World!\")"
   ]
  },
  {
   "cell_type": "markdown",
   "metadata": {},
   "source": [
    "### Create and Assign Variables"
   ]
  },
  {
   "cell_type": "code",
   "execution_count": 3,
   "metadata": {},
   "outputs": [
    {
     "name": "stdout",
     "output_type": "stream",
     "text": [
      "x = 5\n",
      "y = 5\n",
      "string\n"
     ]
    }
   ],
   "source": [
    "#define variables with their values\n",
    "x=5\n",
    "print (\"x =\",x)\n",
    "y=x\n",
    "print (\"y =\",y )\n",
    "z=\"string\"\n",
    "print(z)"
   ]
  },
  {
   "cell_type": "markdown",
   "metadata": {},
   "source": [
    "### Data Types"
   ]
  },
  {
   "cell_type": "code",
   "execution_count": 4,
   "metadata": {},
   "outputs": [
    {
     "name": "stdout",
     "output_type": "stream",
     "text": [
      "7 <class 'int'>\n",
      "5.2 <class 'float'>\n",
      "python <class 'str'>\n",
      "True <class 'bool'>\n"
     ]
    }
   ],
   "source": [
    "#type() is a function that returns the type of the data\n",
    "a=7\n",
    "b=5.2\n",
    "c=\"python\"\n",
    "d=True\n",
    "print(a,type(a))\n",
    "print(b,type(b))\n",
    "print(c,type(c))\n",
    "print(d,type(d))"
   ]
  },
  {
   "cell_type": "markdown",
   "metadata": {},
   "source": [
    "### Arithmatic Operations"
   ]
  },
  {
   "cell_type": "code",
   "execution_count": 5,
   "metadata": {},
   "outputs": [
    {
     "name": "stdout",
     "output_type": "stream",
     "text": [
      "6\n",
      "2\n",
      "2.0\n",
      "8\n",
      "16\n"
     ]
    }
   ],
   "source": [
    "num1=4\n",
    "num2=2\n",
    "print(num1 + num2)\n",
    "print(num1 - num2)\n",
    "print(num1 / num2)\n",
    "print(num1 * num2)\n",
    "print(num1 ** num2) #power"
   ]
  },
  {
   "cell_type": "markdown",
   "metadata": {},
   "source": [
    "### Concatenation"
   ]
  },
  {
   "cell_type": "code",
   "execution_count": 6,
   "metadata": {},
   "outputs": [
    {
     "name": "stdout",
     "output_type": "stream",
     "text": [
      "Hello world\n",
      "Hello\n",
      "world\n"
     ]
    }
   ],
   "source": [
    "word1=\"Hello\"\n",
    "word2=\"world\"\n",
    "print(word1 +\" \" + word2) # + = concatenate: add strings together\n",
    "print(word1 +\"\\n\" + word2) #\"\\n\" = new line"
   ]
  },
  {
   "cell_type": "code",
   "execution_count": 7,
   "metadata": {},
   "outputs": [
    {
     "name": "stdout",
     "output_type": "stream",
     "text": [
      "Number 2\n"
     ]
    }
   ],
   "source": [
    "word1=\"Number\"\n",
    "number=2\n",
    "word2=str(number) #str() convert integer type to string\n",
    "print(word1 +\" \" + word2)"
   ]
  },
  {
   "cell_type": "code",
   "execution_count": 9,
   "metadata": {},
   "outputs": [
    {
     "name": "stdout",
     "output_type": "stream",
     "text": [
      "What is your name?Hisham\n",
      "Hello Hisham\n"
     ]
    }
   ],
   "source": [
    "#input() Ask the user for input and return it in string form\n",
    "s=input(\"What is your name?\")\n",
    "print(\"Hello\", s) "
   ]
  },
  {
   "cell_type": "markdown",
   "metadata": {},
   "source": [
    "### Wait"
   ]
  },
  {
   "cell_type": "code",
   "execution_count": 10,
   "metadata": {},
   "outputs": [
    {
     "name": "stdout",
     "output_type": "stream",
     "text": [
      "What is your name? Hisham\n",
      "Hello Hisham\n"
     ]
    }
   ],
   "source": [
    "import time\n",
    "#input() Ask the user for input and return it in string form\n",
    "s=input(\"What is your name? \")\n",
    "time.sleep(0.5)\n",
    "print(\"Hello\", s) "
   ]
  },
  {
   "cell_type": "code",
   "execution_count": 22,
   "metadata": {},
   "outputs": [
    {
     "name": "stdout",
     "output_type": "stream",
     "text": [
      "Enter first number: 5\n",
      "Enter second number: 5\n",
      "5 + 5 = 10\n"
     ]
    }
   ],
   "source": [
    "# int() convert string type to integer \n",
    "numb1=int(input(\"Enter first number: \"))\n",
    "numb2=int(input(\"Enter second number: \"))\n",
    "time.sleep(1)\n",
    "print(numb1,\"+\",numb2,\"=\",numb1 + numb2)"
   ]
  },
  {
   "cell_type": "markdown",
   "metadata": {},
   "source": [
    "### If Condition"
   ]
  },
  {
   "cell_type": "code",
   "execution_count": 23,
   "metadata": {},
   "outputs": [
    {
     "name": "stdout",
     "output_type": "stream",
     "text": [
      "14 < 20\n"
     ]
    }
   ],
   "source": [
    "# if condition:\n",
    "#    do something\n",
    "# else: the condition is false\n",
    "#    do something else\n",
    "x=10\n",
    "y=4\n",
    "if x+y > 20:\n",
    "    print (x+y,\"> 20\")\n",
    "else:\n",
    "    print(x+y,\"< 20\")"
   ]
  },
  {
   "cell_type": "code",
   "execution_count": 26,
   "metadata": {},
   "outputs": [
    {
     "name": "stdout",
     "output_type": "stream",
     "text": [
      "F\n"
     ]
    }
   ],
   "source": [
    "# elif = else if-> to check another condition\n",
    "grade= 40\n",
    "if grade >= 70:\n",
    "    print(\"A\")\n",
    "elif grade < 70 and grade >= 60:\n",
    "    print(\"B\")\n",
    "elif grade < 60 and grade >= 50:\n",
    "    print(\"C\")\n",
    "else: \n",
    "    print(\"F\")"
   ]
  },
  {
   "cell_type": "code",
   "execution_count": 27,
   "metadata": {},
   "outputs": [
    {
     "name": "stdout",
     "output_type": "stream",
     "text": [
      "true\n"
     ]
    }
   ],
   "source": [
    "x=True #True=1 ,false=0\n",
    "if x == 1 : # == check if it's equal\n",
    "    print(\"true\")\n",
    "else :\n",
    "    print(\"false\")"
   ]
  },
  {
   "cell_type": "code",
   "execution_count": 28,
   "metadata": {},
   "outputs": [
    {
     "name": "stdout",
     "output_type": "stream",
     "text": [
      "false\n"
     ]
    }
   ],
   "source": [
    "x=True \n",
    "if x != 1 : # != check if it's not equal\n",
    "    print(\"true\")\n",
    "else :\n",
    "    print(\"false\")"
   ]
  },
  {
   "cell_type": "markdown",
   "metadata": {},
   "source": [
    "### While loop"
   ]
  },
  {
   "cell_type": "code",
   "execution_count": 29,
   "metadata": {},
   "outputs": [
    {
     "name": "stdout",
     "output_type": "stream",
     "text": [
      "0\n",
      "1\n",
      "2\n",
      "3\n",
      "4\n"
     ]
    }
   ],
   "source": [
    "#while loop -> execute a set of statements as long as a condition is true (i<5)\n",
    "i=0\n",
    "while i<5:\n",
    "    print(i)\n",
    "    i=i+1"
   ]
  },
  {
   "cell_type": "code",
   "execution_count": 30,
   "metadata": {},
   "outputs": [
    {
     "name": "stdout",
     "output_type": "stream",
     "text": [
      "*\n",
      "**\n",
      "***\n",
      "****\n",
      "*****\n"
     ]
    }
   ],
   "source": [
    "i=1\n",
    "while i <= 5:\n",
    "    print(i*\"*\")\n",
    "    i+=1 #same as i=i+1"
   ]
  },
  {
   "cell_type": "code",
   "execution_count": 31,
   "metadata": {},
   "outputs": [
    {
     "name": "stdout",
     "output_type": "stream",
     "text": [
      "10\n",
      "9\n",
      "8\n",
      "7\n",
      "Terminates the loop\n"
     ]
    }
   ],
   "source": [
    "#break used to Terminates the loop even if the while condition is true\n",
    "x=10\n",
    "while x >= 1:\n",
    "    if x == 6:\n",
    "        print(\"Terminates the loop\")\n",
    "        break\n",
    "    print (x)\n",
    "    x-=1"
   ]
  },
  {
   "cell_type": "code",
   "execution_count": 32,
   "metadata": {},
   "outputs": [
    {
     "name": "stdout",
     "output_type": "stream",
     "text": [
      "9\n",
      "8\n",
      "7\n",
      "Skip this iteration\n",
      "5\n",
      "4\n",
      "3\n",
      "2\n",
      "1\n"
     ]
    }
   ],
   "source": [
    "#continue used to Skip only the current iteration then continue in while loop\n",
    "i = 10\n",
    "while i > 1:\n",
    "    i-=1\n",
    "    if i == 6:\n",
    "        print(\"Skip this iteration\")\n",
    "        continue\n",
    "    print(i)"
   ]
  },
  {
   "cell_type": "markdown",
   "metadata": {},
   "source": [
    "### For Loop"
   ]
  },
  {
   "cell_type": "code",
   "execution_count": 33,
   "metadata": {},
   "outputs": [
    {
     "name": "stdout",
     "output_type": "stream",
     "text": [
      "one\n",
      "two\n",
      "three\n"
     ]
    }
   ],
   "source": [
    "#for loop is used for iterating over a sequence like list\n",
    "number=[\"one\",\"two\",\"three\"] #list\n",
    "for x in number:\n",
    "    print(x)"
   ]
  },
  {
   "cell_type": "code",
   "execution_count": 34,
   "metadata": {},
   "outputs": [
    {
     "name": "stdout",
     "output_type": "stream",
     "text": [
      "11\n",
      "12\n",
      "13\n",
      "14\n",
      "15\n",
      "16\n"
     ]
    }
   ],
   "source": [
    "numbers=[1,2,3,4,5,6]\n",
    "for x in numbers:\n",
    "    print(x+10)"
   ]
  },
  {
   "cell_type": "code",
   "execution_count": 35,
   "metadata": {},
   "outputs": [
    {
     "name": "stdout",
     "output_type": "stream",
     "text": [
      "H\n",
      "e\n",
      "l\n",
      "l\n",
      "o\n",
      "!\n"
     ]
    }
   ],
   "source": [
    "for x in \"Hello!\":\n",
    "    print(x)"
   ]
  },
  {
   "cell_type": "code",
   "execution_count": 36,
   "metadata": {},
   "outputs": [
    {
     "name": "stdout",
     "output_type": "stream",
     "text": [
      "0\n",
      "1\n",
      "2\n",
      "3\n",
      "loop2\n",
      "1\n",
      "2\n",
      "3\n",
      "4\n",
      "loop3\n",
      "1\n",
      "3\n",
      "5\n",
      "7\n",
      "9\n"
     ]
    }
   ],
   "source": [
    "#range(start,end,steps) function returns a sequence of numbers\n",
    "#end in not included in the sequence\n",
    "for i in range(4):\n",
    "    print(i)\n",
    "\n",
    "print (\"loop2\")\n",
    "for i in range(1,5):\n",
    "    print(i)\n",
    "\n",
    "print (\"loop3\")\n",
    "for i in range(1,10,2):\n",
    "    print(i)"
   ]
  },
  {
   "cell_type": "code",
   "execution_count": 37,
   "metadata": {},
   "outputs": [
    {
     "name": "stdout",
     "output_type": "stream",
     "text": [
      "1\n",
      "2\n",
      "3\n",
      "4\n",
      "5\n",
      "2\n",
      "4\n",
      "6\n",
      "8\n",
      "10\n"
     ]
    }
   ],
   "source": [
    "x1=[1,2]\n",
    "x2=[1,2,3,4,5]\n",
    "for i in x1: #nested loop: loop inside other loop\n",
    "    for j in x2:\n",
    "        print(i*j)"
   ]
  },
  {
   "cell_type": "markdown",
   "metadata": {},
   "source": [
    "### List"
   ]
  },
  {
   "cell_type": "code",
   "execution_count": 40,
   "metadata": {},
   "outputs": [
    {
     "name": "stdout",
     "output_type": "stream",
     "text": [
      "1\n",
      "[1, 2, 3]\n",
      "[2, 4]\n",
      "[1, 2, 3, 4, 5]\n",
      "[1, 3, 5]\n",
      "5\n",
      "[[1, 2, 3, 4, 5], [1, 2, 3, 4, 5]]\n",
      "[1, 2, 3, 1, 2, 3]\n"
     ]
    }
   ],
   "source": [
    "# list -> collection of ordered and changeable elements\n",
    "list1=[1,2,3,4,5]\n",
    "#slicing [start:end:steps] returns new list from the existing list\n",
    "print(list1[0])\n",
    "print(list1[0:3])\n",
    "print(list1[1:4:2])\n",
    "print(list1[0:])\n",
    "print(list1[::2])\n",
    "print(list1[-1])#-1 = last element\n",
    "print([list1]*2)\n",
    "print(list1[0:3]*2)"
   ]
  },
  {
   "cell_type": "code",
   "execution_count": 45,
   "metadata": {},
   "outputs": [
    {
     "name": "stdout",
     "output_type": "stream",
     "text": [
      "[2, 4, 6, 8, 10]\n"
     ]
    }
   ],
   "source": [
    "#Multiply each item by value\n",
    "print([x*2 for x in list1])"
   ]
  },
  {
   "cell_type": "code",
   "execution_count": 41,
   "metadata": {},
   "outputs": [
    {
     "name": "stdout",
     "output_type": "stream",
     "text": [
      "['bird', 'cat', 'dog', 1, 2, 3]\n",
      "['bird', 'cat', 'dog', 1, 2, 3, 'hamster']\n",
      "['bird', 'cat', 'turtle', 'dog', 1, 2, 3, 'hamster']\n",
      "['bird', 'cat', 'dog', 1, 2, 3, 'hamster']\n"
     ]
    }
   ],
   "source": [
    "animals=[\"bird\",\"cat\",\"dog\",1,2,3]\n",
    "print (animals)\n",
    "# append() is method that adds an element at the end of the list\n",
    "animals.append(\"hamster\")\n",
    "print (animals)\n",
    "#insert() is method that adds an element at the specified position\n",
    "animals.insert(2,\"turtle\")\n",
    "print (animals)\n",
    "#remove() is method that removes the first item with the specified value\n",
    "animals.remove(\"turtle\")\n",
    "print (animals)"
   ]
  },
  {
   "cell_type": "markdown",
   "metadata": {},
   "source": [
    "### Tuple"
   ]
  },
  {
   "cell_type": "raw",
   "metadata": {},
   "source": [
    "tuple -> collection of elements that are immutable (unchangeable elements) Python Tuple is a collection of objects separated by commas.\n",
    "\n",
    "In some ways, a tuple is similar to a Python list in terms of indexing, nested objects, and repetition but the main difference between both is Python tuple is immutable, unlike the Python list which is mutable.\n",
    "\n",
    "Immutable in Python is when you cannot change the object type over time. If it is not possible to alter the value of an object in Python, it is known as an immutable object. Once an immutable object is created, its value remains permanent and unchangeable."
   ]
  },
  {
   "cell_type": "code",
   "execution_count": 42,
   "metadata": {},
   "outputs": [
    {
     "name": "stdout",
     "output_type": "stream",
     "text": [
      "(1, 2, 'cat', 'dog') <class 'tuple'>\n"
     ]
    }
   ],
   "source": [
    "tuple1=(1,2,'cat','dog')\n",
    "print(tuple1,type(tuple1))"
   ]
  },
  {
   "cell_type": "markdown",
   "metadata": {},
   "source": [
    "### Dictionary"
   ]
  },
  {
   "cell_type": "code",
   "execution_count": 43,
   "metadata": {},
   "outputs": [
    {
     "name": "stdout",
     "output_type": "stream",
     "text": [
      "{'name': 'Ahmed', 'age': 20, 'job': 'student'}\n",
      "Ahmed\n",
      "dict_keys(['name', 'age', 'job'])\n",
      "dict_values(['Ahmed', 20, 'student'])\n",
      "dict_items([('name', 'Ahmed'), ('age', 20), ('job', 'student')])\n"
     ]
    }
   ],
   "source": [
    "#dictionary are used to store data values in key:value pairs \n",
    "dict={\"name\":\"Ahmed\",\n",
    "      \"age\":20,\n",
    "      \"job\":\"student\"}\n",
    "print(dict)\n",
    "print(dict[\"name\"])\n",
    "print(dict.keys())\n",
    "print(dict.values())\n",
    "print(dict.items())"
   ]
  },
  {
   "cell_type": "markdown",
   "metadata": {},
   "source": [
    "### Functions"
   ]
  },
  {
   "cell_type": "code",
   "execution_count": 46,
   "metadata": {},
   "outputs": [
    {
     "name": "stdout",
     "output_type": "stream",
     "text": [
      "30\n"
     ]
    }
   ],
   "source": [
    "# create custom function (arguments)\n",
    "def fun1(x,y):\n",
    "    total=x+y\n",
    "    print(total)\n",
    "fun1(10,20) #calling the function (parameters)"
   ]
  },
  {
   "cell_type": "code",
   "execution_count": 47,
   "metadata": {},
   "outputs": [
    {
     "data": {
      "text/plain": [
       "[1, 2, 3, 4, 5]"
      ]
     },
     "execution_count": 47,
     "metadata": {},
     "output_type": "execute_result"
    }
   ],
   "source": [
    "def numbers(num):\n",
    "    list1=[]#create empty list\n",
    "    for i in range(num):\n",
    "        list1.append(i+1)\n",
    "    return list1\n",
    "numbers(5)"
   ]
  },
  {
   "cell_type": "markdown",
   "metadata": {},
   "source": [
    "# NumPy library"
   ]
  },
  {
   "cell_type": "markdown",
   "metadata": {},
   "source": [
    "NumPy is a library for the Python programming language, adding support for large, multi-dimensional arrays and matrices, along with a large collection of high-level mathematical functions to operate on these arrays"
   ]
  },
  {
   "cell_type": "code",
   "execution_count": 49,
   "metadata": {},
   "outputs": [],
   "source": [
    "import numpy as np"
   ]
  },
  {
   "cell_type": "code",
   "execution_count": 50,
   "metadata": {},
   "outputs": [
    {
     "name": "stdout",
     "output_type": "stream",
     "text": [
      "[1 2 3]\n"
     ]
    },
    {
     "data": {
      "text/plain": [
       "1"
      ]
     },
     "execution_count": 50,
     "metadata": {},
     "output_type": "execute_result"
    }
   ],
   "source": [
    "#np.array creates an array\n",
    "a=np.array([1,2,3])\n",
    "print (a)\n",
    "#a.ndim returns the dimension of the array\n",
    "a.ndim"
   ]
  },
  {
   "cell_type": "code",
   "execution_count": 51,
   "metadata": {},
   "outputs": [
    {
     "name": "stdout",
     "output_type": "stream",
     "text": [
      "[[1 2 3]\n",
      " [4 5 6]]\n",
      "2\n",
      "(2, 3)\n",
      "int64\n"
     ]
    }
   ],
   "source": [
    "b=np.array([[1,2,3],[4,5,6]])\n",
    "print (b)\n",
    "print(b.ndim)\n",
    "#b.shape returns the shape(number of rows, number of columns)\n",
    "print(b.shape)\n",
    "#b.dtype returns the data type of the elements\n",
    "print(b.dtype)"
   ]
  },
  {
   "cell_type": "code",
   "execution_count": 52,
   "metadata": {},
   "outputs": [
    {
     "name": "stdout",
     "output_type": "stream",
     "text": [
      "[[ 1  2  3  4]\n",
      " [ 5  6  7  8]\n",
      " [ 9 10 11 12]] \n",
      "\n",
      "7 \n",
      "\n",
      "Second row [5 6 7 8] \n",
      "\n",
      "Last column [ 4  8 12] \n",
      "\n",
      "The middle 2 elements in row 2 [6 7] \n",
      "\n",
      "After change \n",
      " [[ 1  2 20  4]\n",
      " [ 5  6  7  8]\n",
      " [ 9 10 11 12]]\n"
     ]
    }
   ],
   "source": [
    "c=np.array([[1,2,3,4],[5,6,7,8],[9,10,11,12]],\"\\n\")\n",
    "print(c,\"\\n\")\n",
    "#print 7 ?\n",
    "print(c[1,2],\"\\n\")\n",
    "print(\"Second row\",c[-2,:],\"\\n\")# : = all elements \n",
    "print(\"Last column\",c[:,-1],\"\\n\")\n",
    "print(\"The middle 2 elements in row 2\",c[1,1:3],\"\\n\")\n",
    "#set 3 = 20\n",
    "c[0,2]=20\n",
    "print(\"After change\",\"\\n\",c)"
   ]
  },
  {
   "cell_type": "code",
   "execution_count": 55,
   "metadata": {},
   "outputs": [
    {
     "name": "stdout",
     "output_type": "stream",
     "text": [
      "[[0. 0. 0.]\n",
      " [0. 0. 0.]] \n",
      "\n",
      "[[1. 1. 1.]\n",
      " [1. 1. 1.]] \n",
      "\n",
      "[[4 4 4]\n",
      " [4 4 4]] \n",
      "\n",
      "[[1. 0. 0.]\n",
      " [0. 1. 0.]\n",
      " [0. 0. 1.]] \n",
      " \n",
      " [[1. 0. 0.]\n",
      " [0. 1. 0.]\n",
      " [0. 0. 1.]]\n"
     ]
    }
   ],
   "source": [
    "#np.zeros(rows,columns) -> creates array filled with zeros\n",
    "a=np.zeros((2,3))\n",
    "print (a,\"\\n\")\n",
    "#np.ones(rows,columns) -> creates array filled with ones\n",
    "b=np.ones((2,3))\n",
    "print (b,\"\\n\")\n",
    "#np.full((rows,columns),number) -> creates array filled with specific number\n",
    "c=np.full((2,3),4)\n",
    "print (c,\"\\n\")\n",
    "#np.identity(square -> Rows = columns) -> creates array filled with ones at the diagonal\n",
    "s=np.identity(3)\n",
    "print(s,'\\n','\\n',s)"
   ]
  },
  {
   "cell_type": "code",
   "execution_count": 59,
   "metadata": {
    "scrolled": true
   },
   "outputs": [
    {
     "name": "stdout",
     "output_type": "stream",
     "text": [
      "[[0.55586467 0.01617517 0.99124643]\n",
      " [0.57590248 0.00711971 0.21052483]] \n",
      "\n",
      "[[1 2 5]\n",
      " [4 2 4]]\n"
     ]
    }
   ],
   "source": [
    "#np.random.rand creates array of random numbers between 0 and 1 of specific size\n",
    "d=np.random.rand(2,3)\n",
    "print(d,\"\\n\")\n",
    "#np.random.randint creates array of random numbers between specified start and end integer numbers of specific size\n",
    "e=np.random.randint(1,6,size=(2,3))#end is not included\n",
    "print(e)"
   ]
  },
  {
   "cell_type": "code",
   "execution_count": 60,
   "metadata": {},
   "outputs": [
    {
     "name": "stdout",
     "output_type": "stream",
     "text": [
      "[[1 2 3]\n",
      " [4 5 6]] \n",
      "\n",
      "x1 \n",
      " [[ 1 10  3]\n",
      " [ 4  5  6]] \n",
      "\n",
      " x2 \n",
      " [[ 1 10  3]\n",
      " [ 4  5  6]]\n"
     ]
    }
   ],
   "source": [
    "x1=np.array([[1,2,3],[4,5,6]])\n",
    "print(x1,\"\\n\")\n",
    "#Any change in x2 will be applied on x1\n",
    "x2=x1\n",
    "x2[0,1]=10\n",
    "print(\"x1\",\"\\n\",x1,\"\\n\\n\",\"x2\",\"\\n\",x2)"
   ]
  },
  {
   "cell_type": "code",
   "execution_count": 63,
   "metadata": {},
   "outputs": [
    {
     "name": "stdout",
     "output_type": "stream",
     "text": [
      "[[1 2 3]\n",
      " [4 5 6]] \n",
      "\n",
      "y1 \n",
      " [[1 2 3]\n",
      " [4 5 6]] \n",
      "\n",
      " y2 \n",
      " [[ 1 10  3]\n",
      " [ 4  5  6]]\n"
     ]
    }
   ],
   "source": [
    "y1=np.array([[1,2,3],[4,5,6]])\n",
    "print(y1,\"\\n\")\n",
    "#copy() creates copy of y1 so any change in y2 will not be applied on y1\n",
    "y2=y1.copy()\n",
    "y2[0,1]=10\n",
    "print(\"y1\",\"\\n\",y1,\"\\n\\n\",\"y2\",\"\\n\",y2)"
   ]
  },
  {
   "cell_type": "code",
   "execution_count": 64,
   "metadata": {},
   "outputs": [
    {
     "name": "stdout",
     "output_type": "stream",
     "text": [
      "arr \n",
      " [[1 2 3 4]\n",
      " [5 6 7 8]] \n",
      "\n",
      "arr+2 \n",
      " [[ 3  4  5  6]\n",
      " [ 7  8  9 10]] \n",
      "\n",
      "arr-2 \n",
      " [[-1  0  1  2]\n",
      " [ 3  4  5  6]] \n",
      "\n",
      "arr*2 \n",
      " [[ 2  4  6  8]\n",
      " [10 12 14 16]] \n",
      "\n",
      "arr/2 \n",
      " [[0.5 1.  1.5 2. ]\n",
      " [2.5 3.  3.5 4. ]] \n",
      "\n",
      "arr**2 \n",
      " [[ 1  4  9 16]\n",
      " [25 36 49 64]] \n",
      "\n"
     ]
    }
   ],
   "source": [
    "arr=np.array([[1,2,3,4],[5,6,7,8]])\n",
    "print(\"arr\",\"\\n\",arr,\"\\n\")\n",
    "print(\"arr+2\",\"\\n\",arr+2,\"\\n\")\n",
    "print(\"arr-2\",\"\\n\",arr-2,\"\\n\")\n",
    "print(\"arr*2\",\"\\n\",arr*2,\"\\n\")\n",
    "print(\"arr/2\",\"\\n\",arr/2,\"\\n\")\n",
    "print(\"arr**2\",\"\\n\",arr**2,\"\\n\")"
   ]
  },
  {
   "cell_type": "code",
   "execution_count": 65,
   "metadata": {},
   "outputs": [
    {
     "name": "stdout",
     "output_type": "stream",
     "text": [
      "[[1 2 3 4]\n",
      " [5 6 7 8]] \n",
      "\n",
      "[1 1 2 2 3 3 4 4 5 5 6 6 7 7 8 8] \n",
      "\n",
      "[[1 2 3 4]\n",
      " [1 2 3 4]\n",
      " [5 6 7 8]\n",
      " [5 6 7 8]] \n",
      "\n",
      "[[1 1 2 2 3 3 4 4]\n",
      " [5 5 6 6 7 7 8 8]] \n",
      "\n"
     ]
    }
   ],
   "source": [
    "arr=np.array([[1,2,3,4],[5,6,7,8]])\n",
    "#repeat(arr,number) flattening the array and repeat the array number of times\n",
    "print(arr,\"\\n\")\n",
    "\n",
    "arr1= np.repeat(arr,2) \n",
    "print(arr1,\"\\n\")\n",
    "\n",
    "#if the axis is specified no flattening will happen\n",
    "arr2 = np.repeat(arr,2,axis=0)# 0=row\n",
    "print(arr2,\"\\n\")\n",
    "\n",
    "arr2 = np.repeat(arr,2,axis=1)# 1=column\n",
    "print(arr2,\"\\n\")"
   ]
  },
  {
   "cell_type": "code",
   "execution_count": 66,
   "metadata": {},
   "outputs": [
    {
     "name": "stdout",
     "output_type": "stream",
     "text": [
      "vertical \n",
      " [[1 2 3 4]\n",
      " [5 6 7 8]\n",
      " [1 2 3 4]\n",
      " [5 6 7 8]] \n",
      "\n",
      "horizontal [5 6 7 8 1 2 3 4 5 6 7 8 1 2 3 4]\n"
     ]
    }
   ],
   "source": [
    "a=np.array([1,2,3,4])\n",
    "b=np.array([5,6,7,8])\n",
    "#np.vstack creates vertical stack of specific order ([order])\n",
    "print(\"vertical\",\"\\n\",np.vstack([a,b,a,b]),\"\\n\")\n",
    "#np.hstack creates horizontal stack of specific order ([order])\n",
    "print(\"horizontal\",np.hstack([b,a,b,a]))"
   ]
  },
  {
   "cell_type": "code",
   "execution_count": null,
   "metadata": {},
   "outputs": [],
   "source": [
    "k=np.array([[1,2,3,4],[5,6,7,8]])\n",
    "k1=np.array([[9,10,11,12],[13,14,15,16]])\n",
    "print(np.concatenate((k,k1),axis=0),\"\\n\")\n",
    "print(np.concatenate((k,k1),axis=1),\"\\n\")\n",
    "print(np.vstack([k,k1]),\"\\n\")\n",
    "print(np.hstack([k,k1]),\"\\n\")"
   ]
  },
  {
   "cell_type": "code",
   "execution_count": null,
   "metadata": {},
   "outputs": [],
   "source": [
    "a=np.array([[1,2,3,4,5],[6,7,8,9,10],[11,12,13,14,15],[16,17,18,19,20],[21,22,23,24,25]])\n",
    "a"
   ]
  },
  {
   "cell_type": "code",
   "execution_count": null,
   "metadata": {},
   "outputs": [],
   "source": [
    "# 11,12,16,17\n",
    "a[2:4,0:2]"
   ]
  },
  {
   "cell_type": "code",
   "execution_count": null,
   "metadata": {},
   "outputs": [],
   "source": [
    "# diagonal\n",
    "a[(0,1,2,3,4),(0,1,2,3,4)]"
   ]
  },
  {
   "cell_type": "code",
   "execution_count": null,
   "metadata": {},
   "outputs": [],
   "source": [
    "#np.arange(start,end,number of steps) creates array , end is not included\n",
    "x=np.arange(1,10,2)\n",
    "print(x,\"\\n\")\n",
    "#np.linspace(start,end,number of samples) creates evenly spaced samples \n",
    "y=np.linspace(1,100,10)\n",
    "print(y,\"\\n\")\n",
    "arr=np.array([[1,2,3,4,5,6,7],[8,9,10,11,12,13,14]])\n",
    "#arr.reshape(Rows,columns) changes the array size (before 7*2=14, after must equal 14)\n",
    "arr1=arr.reshape(7,2)\n",
    "print(arr1,\"\\n\")\n",
    "print(arr1.flat[:],\"\\n\")#flattening the array\n",
    "#np.transpose(arr1)-> row=column and column=row\n",
    "print(np.transpose(arr1),\"\\n\")"
   ]
  },
  {
   "cell_type": "code",
   "execution_count": null,
   "metadata": {},
   "outputs": [],
   "source": [
    "u=np.array([[1,2,3,4],[5,6,7,8]])\n",
    "u1=np.append(u,[[9,10,11,12]],axis=0)\n",
    "u2=np.append(u,[[5],[9]],axis=1)\n",
    "print(u,\"\\n\\n\",u1,\"\\n\\n\",u2)"
   ]
  },
  {
   "cell_type": "code",
   "execution_count": null,
   "metadata": {},
   "outputs": [],
   "source": [
    "r=k=np.array([[1,2,3,4],[5,6,7,8]])\n",
    "r1=np.insert(r,0,[[11,12,13,14]],axis=0)\n",
    "r2=np.insert(r,4,[10,11],axis=1)\n",
    "print(r,\"\\n\\n\",r1,\"\\n\\n\",r2,\"\\n\\n\")\n",
    "r3=np.delete(r,1,axis=1)\n",
    "print(r3)"
   ]
  },
  {
   "cell_type": "markdown",
   "metadata": {},
   "source": [
    "# Pandas library"
   ]
  },
  {
   "cell_type": "code",
   "execution_count": 67,
   "metadata": {},
   "outputs": [],
   "source": [
    "import pandas as pd"
   ]
  },
  {
   "cell_type": "code",
   "execution_count": 68,
   "metadata": {},
   "outputs": [
    {
     "name": "stdout",
     "output_type": "stream",
     "text": [
      "0        1\n",
      "1        2\n",
      "2        3\n",
      "3        4\n",
      "4    Ahmed\n",
      "5      NaN\n",
      "6        9\n",
      "dtype: object \n",
      "\n",
      "0    a\n",
      "1    b\n",
      "2    c\n",
      "3    d\n",
      "dtype: object \n",
      "\n",
      "a     1\n",
      "b     5\n",
      "c     8\n",
      "d    10\n",
      "dtype: int64 \n",
      "\n"
     ]
    }
   ],
   "source": [
    "#Series like list but with the presence of the index\n",
    "s=pd.Series([1,2,3,4,'Ahmed',np.nan,9])\n",
    "print(s,\"\\n\")\n",
    "data=np.array(['a','b','c','d'])\n",
    "s1=pd.Series(data)\n",
    "print(s1,\"\\n\")\n",
    "#Series from dictionary\n",
    "data1={'a':1,'b':5,'c':8,'d':10}\n",
    "s2=pd.Series(data1)\n",
    "print(s2,\"\\n\")"
   ]
  },
  {
   "cell_type": "markdown",
   "metadata": {},
   "source": [
    "### Data Frame"
   ]
  },
  {
   "cell_type": "code",
   "execution_count": 69,
   "metadata": {},
   "outputs": [
    {
     "name": "stdout",
     "output_type": "stream",
     "text": [
      "   a  b  c  d  e  f\n",
      "x  2  6  1  2  4  6\n",
      "y  2  3  6  2  1  4\n",
      "z  6  6  4  6  2  4\n",
      "l  3  6  6  4  6  4\n"
     ]
    }
   ],
   "source": [
    "#DataFrame is table with rows(index) and columns(columns)\n",
    "df=pd.DataFrame(np.random.randint(1,7,size=(4,6)),index=['x','y','z','l'],columns=['a','b','c','d','e','f'])\n",
    "print(df)"
   ]
  },
  {
   "cell_type": "code",
   "execution_count": 73,
   "metadata": {},
   "outputs": [
    {
     "data": {
      "text/html": [
       "<div>\n",
       "<style scoped>\n",
       "    .dataframe tbody tr th:only-of-type {\n",
       "        vertical-align: middle;\n",
       "    }\n",
       "\n",
       "    .dataframe tbody tr th {\n",
       "        vertical-align: top;\n",
       "    }\n",
       "\n",
       "    .dataframe thead th {\n",
       "        text-align: right;\n",
       "    }\n",
       "</style>\n",
       "<table border=\"1\" class=\"dataframe\">\n",
       "  <thead>\n",
       "    <tr style=\"text-align: right;\">\n",
       "      <th></th>\n",
       "      <th>a</th>\n",
       "      <th>b</th>\n",
       "      <th>c</th>\n",
       "      <th>d</th>\n",
       "      <th>e</th>\n",
       "      <th>f</th>\n",
       "    </tr>\n",
       "  </thead>\n",
       "  <tbody>\n",
       "    <tr>\n",
       "      <th>x</th>\n",
       "      <td>2</td>\n",
       "      <td>6</td>\n",
       "      <td>1</td>\n",
       "      <td>2</td>\n",
       "      <td>4</td>\n",
       "      <td>6</td>\n",
       "    </tr>\n",
       "    <tr>\n",
       "      <th>y</th>\n",
       "      <td>2</td>\n",
       "      <td>3</td>\n",
       "      <td>6</td>\n",
       "      <td>2</td>\n",
       "      <td>1</td>\n",
       "      <td>4</td>\n",
       "    </tr>\n",
       "    <tr>\n",
       "      <th>z</th>\n",
       "      <td>6</td>\n",
       "      <td>6</td>\n",
       "      <td>4</td>\n",
       "      <td>6</td>\n",
       "      <td>2</td>\n",
       "      <td>4</td>\n",
       "    </tr>\n",
       "    <tr>\n",
       "      <th>l</th>\n",
       "      <td>3</td>\n",
       "      <td>6</td>\n",
       "      <td>6</td>\n",
       "      <td>4</td>\n",
       "      <td>6</td>\n",
       "      <td>4</td>\n",
       "    </tr>\n",
       "  </tbody>\n",
       "</table>\n",
       "</div>"
      ],
      "text/plain": [
       "   a  b  c  d  e  f\n",
       "x  2  6  1  2  4  6\n",
       "y  2  3  6  2  1  4\n",
       "z  6  6  4  6  2  4\n",
       "l  3  6  6  4  6  4"
      ]
     },
     "execution_count": 73,
     "metadata": {},
     "output_type": "execute_result"
    }
   ],
   "source": [
    "df.head(4)"
   ]
  },
  {
   "cell_type": "code",
   "execution_count": 75,
   "metadata": {},
   "outputs": [
    {
     "data": {
      "text/html": [
       "<div>\n",
       "<style scoped>\n",
       "    .dataframe tbody tr th:only-of-type {\n",
       "        vertical-align: middle;\n",
       "    }\n",
       "\n",
       "    .dataframe tbody tr th {\n",
       "        vertical-align: top;\n",
       "    }\n",
       "\n",
       "    .dataframe thead th {\n",
       "        text-align: right;\n",
       "    }\n",
       "</style>\n",
       "<table border=\"1\" class=\"dataframe\">\n",
       "  <thead>\n",
       "    <tr style=\"text-align: right;\">\n",
       "      <th></th>\n",
       "      <th>a</th>\n",
       "      <th>b</th>\n",
       "      <th>c</th>\n",
       "      <th>d</th>\n",
       "      <th>e</th>\n",
       "      <th>f</th>\n",
       "    </tr>\n",
       "  </thead>\n",
       "  <tbody>\n",
       "    <tr>\n",
       "      <th>count</th>\n",
       "      <td>4.000000</td>\n",
       "      <td>4.00</td>\n",
       "      <td>4.000000</td>\n",
       "      <td>4.000000</td>\n",
       "      <td>4.000000</td>\n",
       "      <td>4.0</td>\n",
       "    </tr>\n",
       "    <tr>\n",
       "      <th>mean</th>\n",
       "      <td>3.250000</td>\n",
       "      <td>5.25</td>\n",
       "      <td>4.250000</td>\n",
       "      <td>3.500000</td>\n",
       "      <td>3.250000</td>\n",
       "      <td>4.5</td>\n",
       "    </tr>\n",
       "    <tr>\n",
       "      <th>std</th>\n",
       "      <td>1.892969</td>\n",
       "      <td>1.50</td>\n",
       "      <td>2.362908</td>\n",
       "      <td>1.914854</td>\n",
       "      <td>2.217356</td>\n",
       "      <td>1.0</td>\n",
       "    </tr>\n",
       "    <tr>\n",
       "      <th>min</th>\n",
       "      <td>2.000000</td>\n",
       "      <td>3.00</td>\n",
       "      <td>1.000000</td>\n",
       "      <td>2.000000</td>\n",
       "      <td>1.000000</td>\n",
       "      <td>4.0</td>\n",
       "    </tr>\n",
       "    <tr>\n",
       "      <th>25%</th>\n",
       "      <td>2.000000</td>\n",
       "      <td>5.25</td>\n",
       "      <td>3.250000</td>\n",
       "      <td>2.000000</td>\n",
       "      <td>1.750000</td>\n",
       "      <td>4.0</td>\n",
       "    </tr>\n",
       "    <tr>\n",
       "      <th>50%</th>\n",
       "      <td>2.500000</td>\n",
       "      <td>6.00</td>\n",
       "      <td>5.000000</td>\n",
       "      <td>3.000000</td>\n",
       "      <td>3.000000</td>\n",
       "      <td>4.0</td>\n",
       "    </tr>\n",
       "    <tr>\n",
       "      <th>75%</th>\n",
       "      <td>3.750000</td>\n",
       "      <td>6.00</td>\n",
       "      <td>6.000000</td>\n",
       "      <td>4.500000</td>\n",
       "      <td>4.500000</td>\n",
       "      <td>4.5</td>\n",
       "    </tr>\n",
       "    <tr>\n",
       "      <th>max</th>\n",
       "      <td>6.000000</td>\n",
       "      <td>6.00</td>\n",
       "      <td>6.000000</td>\n",
       "      <td>6.000000</td>\n",
       "      <td>6.000000</td>\n",
       "      <td>6.0</td>\n",
       "    </tr>\n",
       "  </tbody>\n",
       "</table>\n",
       "</div>"
      ],
      "text/plain": [
       "              a     b         c         d         e    f\n",
       "count  4.000000  4.00  4.000000  4.000000  4.000000  4.0\n",
       "mean   3.250000  5.25  4.250000  3.500000  3.250000  4.5\n",
       "std    1.892969  1.50  2.362908  1.914854  2.217356  1.0\n",
       "min    2.000000  3.00  1.000000  2.000000  1.000000  4.0\n",
       "25%    2.000000  5.25  3.250000  2.000000  1.750000  4.0\n",
       "50%    2.500000  6.00  5.000000  3.000000  3.000000  4.0\n",
       "75%    3.750000  6.00  6.000000  4.500000  4.500000  4.5\n",
       "max    6.000000  6.00  6.000000  6.000000  6.000000  6.0"
      ]
     },
     "execution_count": 75,
     "metadata": {},
     "output_type": "execute_result"
    }
   ],
   "source": [
    "#describe() method is used for calculating some statistics of the data in the DataFrame\n",
    "df.describe()"
   ]
  },
  {
   "cell_type": "code",
   "execution_count": 76,
   "metadata": {},
   "outputs": [
    {
     "name": "stdout",
     "output_type": "stream",
     "text": [
      "     A  B  C  D     E\n",
      "0  0.1  1  3  A  Good\n",
      "1  0.1  2  3  B  Good\n",
      "2  0.1  3  3  C  Good\n",
      "3  0.1  4  3  D  Good \n",
      "\n",
      "     A  B  C  D     E\n",
      "0  0.1  1  3  A  Good\n",
      "1  0.1  2  3  B  Good \n",
      "\n",
      "     A  B  C  D     E\n",
      "2  0.1  3  3  C  Good\n",
      "3  0.1  4  3  D  Good \n",
      "\n",
      "RangeIndex(start=0, stop=4, step=1) \n",
      "\n",
      "Index(['A', 'B', 'C', 'D', 'E'], dtype='object') \n",
      "\n",
      "[[0.1 1 3 'A' 'Good']\n",
      " [0.1 2 3 'B' 'Good']\n",
      " [0.1 3 3 'C' 'Good']\n",
      " [0.1 4 3 'D' 'Good']] \n",
      "\n"
     ]
    }
   ],
   "source": [
    "#Other syntax to create the DataFrame\n",
    "df1=pd.DataFrame({'A':0.1,\n",
    "                 'B':pd.Series([1,2,3,4]),\n",
    "                 'C':np.array([3]*4),\n",
    "                 'D':['A','B','C','D'],\n",
    "                 'E':'Good'})\n",
    "print(df1,\"\\n\")\n",
    "#df1.head(rows) print the first nth rows\n",
    "print(df1.head(2),\"\\n\")\n",
    "#df1.tail(rows) print the last nth rows\n",
    "print(df1.tail(2),\"\\n\")\n",
    "#df1.index print the indexes names in the dataFrame\n",
    "print(df1.index,\"\\n\")\n",
    "#df1.columns print the columns names in the dataFrame\n",
    "print(df1.columns,\"\\n\")\n",
    "#df1.values print the values of the dataFrame\n",
    "print(df1.values,\"\\n\")"
   ]
  },
  {
   "cell_type": "code",
   "execution_count": 81,
   "metadata": {},
   "outputs": [
    {
     "data": {
      "text/html": [
       "<div>\n",
       "<style scoped>\n",
       "    .dataframe tbody tr th:only-of-type {\n",
       "        vertical-align: middle;\n",
       "    }\n",
       "\n",
       "    .dataframe tbody tr th {\n",
       "        vertical-align: top;\n",
       "    }\n",
       "\n",
       "    .dataframe thead th {\n",
       "        text-align: right;\n",
       "    }\n",
       "</style>\n",
       "<table border=\"1\" class=\"dataframe\">\n",
       "  <thead>\n",
       "    <tr style=\"text-align: right;\">\n",
       "      <th></th>\n",
       "      <th>one</th>\n",
       "      <th>two</th>\n",
       "      <th>three</th>\n",
       "      <th>four</th>\n",
       "    </tr>\n",
       "  </thead>\n",
       "  <tbody>\n",
       "    <tr>\n",
       "      <th>A</th>\n",
       "      <td>1</td>\n",
       "      <td>4</td>\n",
       "      <td>3</td>\n",
       "      <td>3</td>\n",
       "    </tr>\n",
       "    <tr>\n",
       "      <th>B</th>\n",
       "      <td>3</td>\n",
       "      <td>1</td>\n",
       "      <td>1</td>\n",
       "      <td>1</td>\n",
       "    </tr>\n",
       "    <tr>\n",
       "      <th>C</th>\n",
       "      <td>3</td>\n",
       "      <td>5</td>\n",
       "      <td>3</td>\n",
       "      <td>5</td>\n",
       "    </tr>\n",
       "    <tr>\n",
       "      <th>D</th>\n",
       "      <td>3</td>\n",
       "      <td>1</td>\n",
       "      <td>3</td>\n",
       "      <td>1</td>\n",
       "    </tr>\n",
       "  </tbody>\n",
       "</table>\n",
       "</div>"
      ],
      "text/plain": [
       "   one  two  three  four\n",
       "A    1    4      3     3\n",
       "B    3    1      1     1\n",
       "C    3    5      3     5\n",
       "D    3    1      3     1"
      ]
     },
     "execution_count": 81,
     "metadata": {},
     "output_type": "execute_result"
    }
   ],
   "source": [
    "df2=pd.DataFrame(np.random.randint(1,6,size=(4,4)),index=['A','B','C','D'],columns=['one','two','three','four'])\n",
    "df2"
   ]
  },
  {
   "cell_type": "code",
   "execution_count": 82,
   "metadata": {},
   "outputs": [
    {
     "name": "stdout",
     "output_type": "stream",
     "text": [
      "1 \n",
      "\n",
      "one      3\n",
      "two      5\n",
      "three    3\n",
      "four     5\n",
      "Name: C, dtype: int64 \n",
      "\n",
      "   one  two  three  four\n",
      "C    3    5      3     5\n",
      "D    3    1      3     1 \n",
      "\n"
     ]
    }
   ],
   "source": [
    "#df2.loc access the DataFrame based on the index or column name\n",
    "print(df2.loc[\"B\",\"three\"],\"\\n\")\n",
    "print(df2.loc[\"C\",:],\"\\n\")\n",
    "print(df2.loc[[\"C\",\"D\"],:],\"\\n\")"
   ]
  },
  {
   "cell_type": "code",
   "execution_count": 83,
   "metadata": {},
   "outputs": [
    {
     "name": "stdout",
     "output_type": "stream",
     "text": [
      "1 \n",
      "\n",
      "one      3\n",
      "two      5\n",
      "three    3\n",
      "four     5\n",
      "Name: C, dtype: int64 \n",
      "\n",
      "   one  two  three  four\n",
      "C    3    5      3     5\n",
      "D    3    1      3     1 \n",
      "\n"
     ]
    }
   ],
   "source": [
    "#df2.iloc access the DataFrame based on the element index\n",
    "print(df2.iloc[1,2],\"\\n\")\n",
    "print(df2.iloc[-2,],\"\\n\")\n",
    "print(df2.iloc[2:4,],\"\\n\")"
   ]
  },
  {
   "cell_type": "code",
   "execution_count": 84,
   "metadata": {},
   "outputs": [
    {
     "name": "stdout",
     "output_type": "stream",
     "text": [
      "   one  two  three  four\n",
      "A    1    4      3     3\n",
      "B    3    1      1     1\n",
      "C    3    5      3     5\n",
      "D    3    1      3     1 \n",
      "\n",
      "   one  two  four\n",
      "A    1    4     3\n",
      "B    3    1     1\n",
      "C    3    5     5\n",
      "D    3    1     1 \n",
      "\n",
      "   one  two  three  four\n",
      "A    1    4      3     3\n",
      "B    3    1      1     1\n",
      "D    3    1      3     1 \n",
      "\n",
      "   one  two  three  four\n",
      "A    1    4      3     3\n",
      "B    3    1      1     1 \n",
      "\n"
     ]
    }
   ],
   "source": [
    "print(df2,\"\\n\")\n",
    "#df2.drop delete index or column with their values\n",
    "a=df2.drop(\"three\",axis=1)\n",
    "print(a,\"\\n\")\n",
    "b=df2.drop(\"C\",axis=0)\n",
    "print(b,\"\\n\")\n",
    "c=df2.drop([\"C\",\"D\"],axis=0)\n",
    "print(c,\"\\n\")"
   ]
  },
  {
   "cell_type": "code",
   "execution_count": 86,
   "metadata": {},
   "outputs": [
    {
     "name": "stdout",
     "output_type": "stream",
     "text": [
      "   one  two  three  four\n",
      "A    1    4      3     3\n",
      "B    3    1      1     1\n",
      "C    3    5      3     5\n",
      "D    3    1      3     1 \n",
      "\n",
      "x = \n",
      "    one  two  three  four\n",
      "B  3.0  1.0    1.0   1.0\n",
      "A  1.0  4.0    3.0   3.0\n",
      "C  3.0  5.0    3.0   5.0\n",
      "D  3.0  1.0    3.0   1.0\n",
      "E  NaN  NaN    NaN   NaN \n",
      " \n",
      "\n",
      "y = \n",
      "    two  four  one  three  five\n",
      "A    4     3    1      3   NaN\n",
      "B    1     1    3      1   NaN\n",
      "C    5     5    3      3   NaN\n",
      "D    1     1    3      3   NaN \n",
      "\n",
      "x after sorting \n",
      "    one  two  three  four\n",
      "A  1.0  4.0    3.0   3.0\n",
      "B  3.0  1.0    1.0   1.0\n",
      "C  3.0  5.0    3.0   5.0\n",
      "D  3.0  1.0    3.0   1.0\n",
      "E  NaN  NaN    NaN   NaN\n"
     ]
    }
   ],
   "source": [
    "#df2.reindex rearranges the indexes or the columns according to specified order\n",
    "# if there index or column is not exist it will be created with not a number(NaN) values\n",
    "print(df2,\"\\n\")\n",
    "x=df2.reindex([\"B\",\"A\",\"C\",\"D\",\"E\"])\n",
    "print(\"x =\",\"\\n\",x,\"\\n\",\"\\n\")\n",
    "y=df2.reindex([\"two\",\"four\",\"one\",\"three\",\"five\"],axis=1)\n",
    "print(\"y =\",\"\\n\",y,\"\\n\")\n",
    "# sort_index() order the indexes\n",
    "print(\"x after sorting\",\"\\n\",x.sort_index())"
   ]
  },
  {
   "cell_type": "code",
   "execution_count": 87,
   "metadata": {},
   "outputs": [
    {
     "name": "stdout",
     "output_type": "stream",
     "text": [
      "   two  four  one  three  five\n",
      "A    4     3    1      3   NaN\n",
      "B    1     1    3      1   NaN\n",
      "C    5     5    3      3   NaN\n",
      "D    1     1    3      3   NaN\n",
      "     two   four    one  three  five\n",
      "A  False  False  False  False  True\n",
      "B  False  False  False  False  True\n",
      "C  False  False  False  False  True\n",
      "D  False  False  False  False  True\n",
      "   two  four  one  three\n",
      "A    4     3    1      3\n",
      "B    1     1    3      1\n",
      "C    5     5    3      3\n",
      "D    1     1    3      3\n"
     ]
    }
   ],
   "source": [
    "print(y)\n",
    "#y.isna() returns true if there value = NaN\n",
    "print(y.isna())\n",
    "#y.dropna() drop all values = Nan\n",
    "print(y.dropna(axis=1))"
   ]
  },
  {
   "cell_type": "code",
   "execution_count": null,
   "metadata": {},
   "outputs": [],
   "source": [
    "x1=x.sort_index()\n",
    "print(x1)\n",
    "#x.max() print the maximum value default (0) in each columns\n",
    "print(x1.max(axis=1))# Row = 1\n",
    "#y.fillna() fill all values =Nan with the maximum\n",
    "x.fillna(x1.max(),axis=0)"
   ]
  },
  {
   "cell_type": "code",
   "execution_count": null,
   "metadata": {},
   "outputs": [],
   "source": [
    "select average(Fieldx), count(Fieldx),count(fieldy), count(distinct Fieldx), count(*) \n",
    "from Table_y;\n",
    "\n",
    "1,1,2,1,2"
   ]
  },
  {
   "cell_type": "code",
   "execution_count": null,
   "metadata": {},
   "outputs": [],
   "source": [
    "FieldX FieldY FieldZ\n",
    "1       1      1\n",
    "null    12     32\n",
    "1       2      32\n",
    "\n",
    "sum(nvl(fieldx,0))"
   ]
  },
  {
   "cell_type": "code",
   "execution_count": null,
   "metadata": {},
   "outputs": [],
   "source": []
  }
 ],
 "metadata": {
  "kernelspec": {
   "display_name": "Python 3 (ipykernel)",
   "language": "python",
   "name": "python3"
  },
  "language_info": {
   "codemirror_mode": {
    "name": "ipython",
    "version": 3
   },
   "file_extension": ".py",
   "mimetype": "text/x-python",
   "name": "python",
   "nbconvert_exporter": "python",
   "pygments_lexer": "ipython3",
   "version": "3.9.12"
  }
 },
 "nbformat": 4,
 "nbformat_minor": 4
}
