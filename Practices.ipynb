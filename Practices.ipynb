{
    "metadata": {
        "kernelspec": {
            "name": "SQL",
            "display_name": "SQL",
            "language": "sql"
        },
        "language_info": {
            "name": "sql",
            "version": ""
        }
    },
    "nbformat_minor": 2,
    "nbformat": 4,
    "cells": [
        {
            "cell_type": "markdown",
            "source": [
                "Data Base: [From W3 School](../../w3schools.com/sql/trysql.asp)  \n",
                "  \n",
                "\n",
                "1- Find the Top <span style=\"color: var(--vscode-foreground);\">of&nbsp;</span> <span style=\"color: var(--vscode-foreground);\">10 Employees Who Sold the most Number of orders, and order Them in Descending order showing the highest first ...</span>\n",
                "\n",
                "2- Find the Top <span style=\"color: var(--vscode-foreground);\">of&nbsp;</span> <span style=\"color: var(--vscode-foreground);\">10 Employees</span> <span style=\"color: var(--vscode-foreground);\">&nbsp;Who Sold highest quantity of Sales, in ''Beverages'' Category and Order&nbsp;</span> <span style=\"color: var(--vscode-foreground);\">Them in Descending order showing the highest first ...</span>\n",
                "\n",
                "<span style=\"color: var(--vscode-foreground);\"><br></span>"
            ],
            "metadata": {
                "azdata_cell_guid": "96c4fffe-0673-4f01-b6dc-67d1fce8a371"
            },
            "attachments": {}
        },
        {
            "cell_type": "markdown",
            "source": [
                "First Question\n",
                "\n",
                "Note:"
            ],
            "metadata": {
                "language": "sql",
                "azdata_cell_guid": "a82034c2-9f9b-4a45-9651-53ae18504c27"
            },
            "attachments": {}
        },
        {
            "cell_type": "code",
            "source": [
                "\n",
                "select \n",
                "emp.FirstName as Employee_FirstName,\n",
                "emp.LastName as Employee_LastName,\n",
                "-- concat(emp.firstname,\" \",emp.lastname) as name, \n",
                "count(ord.employeeid) as Number_of_Orders\n",
                "from w3schools.employees as emp\n",
                "left join w3schools.orders ord on ord.employeeid = emp.employeeid\n",
                "group by emp.employeeid\n",
                "order by Number_of_orders desc\n",
                "limit 10;"
            ],
            "metadata": {
                "azdata_cell_guid": "88f1ee9f-4264-4993-8bfd-7b4ed4f7e10c",
                "language": "sql"
            },
            "outputs": [
                {
                    "output_type": "display_data",
                    "data": {
                        "text/html": "(10 row(s) affected)"
                    },
                    "metadata": {}
                },
                {
                    "output_type": "display_data",
                    "data": {
                        "text/html": "Total execution time: 00:00:01.007"
                    },
                    "metadata": {}
                },
                {
                    "output_type": "execute_result",
                    "metadata": {},
                    "execution_count": 4,
                    "data": {
                        "application/vnd.dataresource+json": {
                            "schema": {
                                "fields": [
                                    {
                                        "name": "Employee_FirstName"
                                    },
                                    {
                                        "name": "Employee_LastName"
                                    },
                                    {
                                        "name": "Number_of_Orders"
                                    }
                                ]
                            },
                            "data": [
                                {
                                    "Employee_FirstName": "Margaret",
                                    "Employee_LastName": "Peacock",
                                    "Number_of_Orders": "40"
                                },
                                {
                                    "Employee_FirstName": "Janet",
                                    "Employee_LastName": "Leverling",
                                    "Number_of_Orders": "31"
                                },
                                {
                                    "Employee_FirstName": "Nancy",
                                    "Employee_LastName": "Davolio",
                                    "Number_of_Orders": "29"
                                },
                                {
                                    "Employee_FirstName": "Laura",
                                    "Employee_LastName": "Callahan",
                                    "Number_of_Orders": "27"
                                },
                                {
                                    "Employee_FirstName": "Andrew",
                                    "Employee_LastName": "Fuller",
                                    "Number_of_Orders": "20"
                                },
                                {
                                    "Employee_FirstName": "Michael",
                                    "Employee_LastName": "Suyama",
                                    "Number_of_Orders": "18"
                                },
                                {
                                    "Employee_FirstName": "Robert",
                                    "Employee_LastName": "King",
                                    "Number_of_Orders": "14"
                                },
                                {
                                    "Employee_FirstName": "Steven",
                                    "Employee_LastName": "Buchanan",
                                    "Number_of_Orders": "11"
                                },
                                {
                                    "Employee_FirstName": "Anne",
                                    "Employee_LastName": "Dodsworth",
                                    "Number_of_Orders": "6"
                                },
                                {
                                    "Employee_FirstName": "Adam",
                                    "Employee_LastName": "West",
                                    "Number_of_Orders": "0"
                                }
                            ]
                        },
                        "text/html": [
                            "<table>",
                            "<tr><th>Employee_FirstName</th><th>Employee_LastName</th><th>Number_of_Orders</th></tr>",
                            "<tr><td>Margaret</td><td>Peacock</td><td>40</td></tr>",
                            "<tr><td>Janet</td><td>Leverling</td><td>31</td></tr>",
                            "<tr><td>Nancy</td><td>Davolio</td><td>29</td></tr>",
                            "<tr><td>Laura</td><td>Callahan</td><td>27</td></tr>",
                            "<tr><td>Andrew</td><td>Fuller</td><td>20</td></tr>",
                            "<tr><td>Michael</td><td>Suyama</td><td>18</td></tr>",
                            "<tr><td>Robert</td><td>King</td><td>14</td></tr>",
                            "<tr><td>Steven</td><td>Buchanan</td><td>11</td></tr>",
                            "<tr><td>Anne</td><td>Dodsworth</td><td>6</td></tr>",
                            "<tr><td>Adam</td><td>West</td><td>0</td></tr>",
                            "</table>"
                        ]
                    }
                }
            ],
            "execution_count": 4
        },
        {
            "cell_type": "markdown",
            "source": [
                "Second Question \n",
                "\n",
                "<span style=\"color: var(--vscode-foreground);\">Note:</span>"
            ],
            "metadata": {
                "language": "",
                "azdata_cell_guid": "63e9be8a-f0f4-420f-9d6e-871b8b9a803e"
            },
            "attachments": {}
        },
        {
            "cell_type": "code",
            "source": [
                "select emp.firstname as Employee_FirstName, emp.lastname as Employee_LastName, \n",
                "-- COALESCE(sum(odd.quantity), 0) as Sold_Most_Beverages\n",
                "case when sum(odd.quantity) is NULL then 0 \n",
                "    else sum(odd.Quantity) end as Sold_Most_Beverages\n",
                "--\n",
                "from w3schools.employees as emp\n",
                "left join w3schools.orders as ord on emp.EmployeeID = ord.EmployeeID\n",
                "left join w3schools.order_details as odd on odd.OrderID = ord.OrderID\n",
                "right join w3schools.products as prd on odd.productid = prd.ProductID\n",
                "where prd.CategoryID in (select cat.CategoryID from w3schools.categories as cat where cat.CategoryName = \"beverages\")\n",
                "group by emp.employeeid\n",
                "order by sold_most_beverages desc\n",
                "limit 10;"
            ],
            "metadata": {
                "azdata_cell_guid": "32b6b6dd-228d-4ab1-9be9-812a05c28b42",
                "language": "sql"
            },
            "outputs": [
                {
                    "output_type": "display_data",
                    "data": {
                        "text/html": "(9 row(s) affected)"
                    },
                    "metadata": {}
                },
                {
                    "output_type": "display_data",
                    "data": {
                        "text/html": "Total execution time: 00:00:01.008"
                    },
                    "metadata": {}
                },
                {
                    "output_type": "execute_result",
                    "metadata": {},
                    "execution_count": 49,
                    "data": {
                        "application/vnd.dataresource+json": {
                            "schema": {
                                "fields": [
                                    {
                                        "name": "Employee_FirstName"
                                    },
                                    {
                                        "name": "Employee_LastName"
                                    },
                                    {
                                        "name": "Sold_Most_Beverages"
                                    }
                                ]
                            },
                            "data": [
                                {
                                    "Employee_FirstName": "Margaret",
                                    "Employee_LastName": "Peacock",
                                    "Sold_Most_Beverages": "595"
                                },
                                {
                                    "Employee_FirstName": "Nancy",
                                    "Employee_LastName": "Davolio",
                                    "Sold_Most_Beverages": "357"
                                },
                                {
                                    "Employee_FirstName": "Robert",
                                    "Employee_LastName": "King",
                                    "Sold_Most_Beverages": "247"
                                },
                                {
                                    "Employee_FirstName": "Laura",
                                    "Employee_LastName": "Callahan",
                                    "Sold_Most_Beverages": "243"
                                },
                                {
                                    "Employee_FirstName": "Janet",
                                    "Employee_LastName": "Leverling",
                                    "Sold_Most_Beverages": "223"
                                },
                                {
                                    "Employee_FirstName": "Michael",
                                    "Employee_LastName": "Suyama",
                                    "Sold_Most_Beverages": "195"
                                },
                                {
                                    "Employee_FirstName": "Andrew",
                                    "Employee_LastName": "Fuller",
                                    "Sold_Most_Beverages": "151"
                                },
                                {
                                    "Employee_FirstName": "Anne",
                                    "Employee_LastName": "Dodsworth",
                                    "Sold_Most_Beverages": "143"
                                },
                                {
                                    "Employee_FirstName": "Steven",
                                    "Employee_LastName": "Buchanan",
                                    "Sold_Most_Beverages": "135"
                                }
                            ]
                        },
                        "text/html": [
                            "<table>",
                            "<tr><th>Employee_FirstName</th><th>Employee_LastName</th><th>Sold_Most_Beverages</th></tr>",
                            "<tr><td>Margaret</td><td>Peacock</td><td>595</td></tr>",
                            "<tr><td>Nancy</td><td>Davolio</td><td>357</td></tr>",
                            "<tr><td>Robert</td><td>King</td><td>247</td></tr>",
                            "<tr><td>Laura</td><td>Callahan</td><td>243</td></tr>",
                            "<tr><td>Janet</td><td>Leverling</td><td>223</td></tr>",
                            "<tr><td>Michael</td><td>Suyama</td><td>195</td></tr>",
                            "<tr><td>Andrew</td><td>Fuller</td><td>151</td></tr>",
                            "<tr><td>Anne</td><td>Dodsworth</td><td>143</td></tr>",
                            "<tr><td>Steven</td><td>Buchanan</td><td>135</td></tr>",
                            "</table>"
                        ]
                    }
                }
            ],
            "execution_count": 49
        },
        {
            "cell_type": "code",
            "source": [
                "select emp.firstname as Employee_FirstName, emp.lastname as Employee_LastName, \n",
                "-- \n",
                "COALESCE(sum(odd.quantity), 0) as sold_most_beverages\n",
                "\n",
                "from w3schools.employees as emp\n",
                "left join w3schools.orders as ord on emp.EmployeeID = ord.EmployeeID\n",
                "left join w3schools.order_details as odd on odd.OrderID = ord.OrderID\n",
                "right join w3schools.products as prd on odd.productid = prd.ProductID\n",
                "where prd.CategoryID in (select cat.CategoryID from w3schools.categories as cat where cat.CategoryName = \"beverages\")\n",
                "group by emp.employeeid\n",
                "order by sold_most_beverages desc\n",
                "limit 10;"
            ],
            "metadata": {
                "language": "sql",
                "azdata_cell_guid": "dcea20d7-3c36-4eb2-9fb9-e7bddae97986"
            },
            "outputs": [
                {
                    "output_type": "display_data",
                    "data": {
                        "text/html": "(9 row(s) affected)"
                    },
                    "metadata": {}
                },
                {
                    "output_type": "display_data",
                    "data": {
                        "text/html": "Total execution time: 00:00:01.007"
                    },
                    "metadata": {}
                },
                {
                    "output_type": "execute_result",
                    "metadata": {},
                    "execution_count": 51,
                    "data": {
                        "application/vnd.dataresource+json": {
                            "schema": {
                                "fields": [
                                    {
                                        "name": "Employee_FirstName"
                                    },
                                    {
                                        "name": "Employee_LastName"
                                    },
                                    {
                                        "name": "sold_most_beverages"
                                    }
                                ]
                            },
                            "data": [
                                {
                                    "Employee_FirstName": "Margaret",
                                    "Employee_LastName": "Peacock",
                                    "sold_most_beverages": "595"
                                },
                                {
                                    "Employee_FirstName": "Nancy",
                                    "Employee_LastName": "Davolio",
                                    "sold_most_beverages": "357"
                                },
                                {
                                    "Employee_FirstName": "Robert",
                                    "Employee_LastName": "King",
                                    "sold_most_beverages": "247"
                                },
                                {
                                    "Employee_FirstName": "Laura",
                                    "Employee_LastName": "Callahan",
                                    "sold_most_beverages": "243"
                                },
                                {
                                    "Employee_FirstName": "Janet",
                                    "Employee_LastName": "Leverling",
                                    "sold_most_beverages": "223"
                                },
                                {
                                    "Employee_FirstName": "Michael",
                                    "Employee_LastName": "Suyama",
                                    "sold_most_beverages": "195"
                                },
                                {
                                    "Employee_FirstName": "Andrew",
                                    "Employee_LastName": "Fuller",
                                    "sold_most_beverages": "151"
                                },
                                {
                                    "Employee_FirstName": "Anne",
                                    "Employee_LastName": "Dodsworth",
                                    "sold_most_beverages": "143"
                                },
                                {
                                    "Employee_FirstName": "Steven",
                                    "Employee_LastName": "Buchanan",
                                    "sold_most_beverages": "135"
                                }
                            ]
                        },
                        "text/html": [
                            "<table>",
                            "<tr><th>Employee_FirstName</th><th>Employee_LastName</th><th>sold_most_beverages</th></tr>",
                            "<tr><td>Margaret</td><td>Peacock</td><td>595</td></tr>",
                            "<tr><td>Nancy</td><td>Davolio</td><td>357</td></tr>",
                            "<tr><td>Robert</td><td>King</td><td>247</td></tr>",
                            "<tr><td>Laura</td><td>Callahan</td><td>243</td></tr>",
                            "<tr><td>Janet</td><td>Leverling</td><td>223</td></tr>",
                            "<tr><td>Michael</td><td>Suyama</td><td>195</td></tr>",
                            "<tr><td>Andrew</td><td>Fuller</td><td>151</td></tr>",
                            "<tr><td>Anne</td><td>Dodsworth</td><td>143</td></tr>",
                            "<tr><td>Steven</td><td>Buchanan</td><td>135</td></tr>",
                            "</table>"
                        ]
                    }
                }
            ],
            "execution_count": 51
        },
        {
            "cell_type": "code",
            "source": [
                "SELECT emp.firstname AS Employee_FirstName, emp.lastname AS Employee_LastName, \n",
                "       COALESCE(sum(odd.quantity), 0) AS Sold_Most_Beverages\n",
                "FROM w3schools.employees AS emp\n",
                "LEFT JOIN w3schools.orders AS ord ON emp.EmployeeID = ord.EmployeeID\n",
                "LEFT JOIN w3schools.order_details AS odd ON odd.OrderID = ord.OrderID\n",
                "LEFT JOIN w3schools.products AS prd ON odd.productid = prd.ProductID\n",
                "RIGHT JOIN (SELECT * FROM w3schools.categories AS cat WHERE cat.CategoryName = \"beverages\") AS cat ON prd.CategoryID = cat.CategoryID\n",
                "-- WHERE cat.categoryid = \"1\" --\n",
                "-- where \n",
                "GROUP BY emp.employeeid\n",
                "ORDER BY Sold_Most_Beverages DESC\n",
                "LIMIT 10;"
            ],
            "metadata": {
                "language": "sql",
                "azdata_cell_guid": "8a73479e-81a1-4f8d-9500-eedf558f5b70",
                "tags": []
            },
            "outputs": [
                {
                    "output_type": "display_data",
                    "data": {
                        "text/html": "(9 row(s) affected)"
                    },
                    "metadata": {}
                },
                {
                    "output_type": "display_data",
                    "data": {
                        "text/html": "Total execution time: 00:00:01.004"
                    },
                    "metadata": {}
                },
                {
                    "output_type": "execute_result",
                    "metadata": {},
                    "execution_count": 45,
                    "data": {
                        "application/vnd.dataresource+json": {
                            "schema": {
                                "fields": [
                                    {
                                        "name": "Employee_FirstName"
                                    },
                                    {
                                        "name": "Employee_LastName"
                                    },
                                    {
                                        "name": "Sold_Most_Beverages"
                                    }
                                ]
                            },
                            "data": [
                                {
                                    "Employee_FirstName": "Margaret",
                                    "Employee_LastName": "Peacock",
                                    "Sold_Most_Beverages": "595"
                                },
                                {
                                    "Employee_FirstName": "Nancy",
                                    "Employee_LastName": "Davolio",
                                    "Sold_Most_Beverages": "357"
                                },
                                {
                                    "Employee_FirstName": "Robert",
                                    "Employee_LastName": "King",
                                    "Sold_Most_Beverages": "247"
                                },
                                {
                                    "Employee_FirstName": "Laura",
                                    "Employee_LastName": "Callahan",
                                    "Sold_Most_Beverages": "243"
                                },
                                {
                                    "Employee_FirstName": "Janet",
                                    "Employee_LastName": "Leverling",
                                    "Sold_Most_Beverages": "223"
                                },
                                {
                                    "Employee_FirstName": "Michael",
                                    "Employee_LastName": "Suyama",
                                    "Sold_Most_Beverages": "195"
                                },
                                {
                                    "Employee_FirstName": "Andrew",
                                    "Employee_LastName": "Fuller",
                                    "Sold_Most_Beverages": "151"
                                },
                                {
                                    "Employee_FirstName": "Anne",
                                    "Employee_LastName": "Dodsworth",
                                    "Sold_Most_Beverages": "143"
                                },
                                {
                                    "Employee_FirstName": "Steven",
                                    "Employee_LastName": "Buchanan",
                                    "Sold_Most_Beverages": "135"
                                }
                            ]
                        },
                        "text/html": [
                            "<table>",
                            "<tr><th>Employee_FirstName</th><th>Employee_LastName</th><th>Sold_Most_Beverages</th></tr>",
                            "<tr><td>Margaret</td><td>Peacock</td><td>595</td></tr>",
                            "<tr><td>Nancy</td><td>Davolio</td><td>357</td></tr>",
                            "<tr><td>Robert</td><td>King</td><td>247</td></tr>",
                            "<tr><td>Laura</td><td>Callahan</td><td>243</td></tr>",
                            "<tr><td>Janet</td><td>Leverling</td><td>223</td></tr>",
                            "<tr><td>Michael</td><td>Suyama</td><td>195</td></tr>",
                            "<tr><td>Andrew</td><td>Fuller</td><td>151</td></tr>",
                            "<tr><td>Anne</td><td>Dodsworth</td><td>143</td></tr>",
                            "<tr><td>Steven</td><td>Buchanan</td><td>135</td></tr>",
                            "</table>"
                        ]
                    }
                }
            ],
            "execution_count": 45
        },
        {
            "cell_type": "code",
            "source": [
                "select emp.firstname as Employee_FirstName, emp.lastname as Employee_LastName, \n",
                "COALESCE(sum(odd.quantity),0) as Sold_Most_Beverages\n",
                "from w3schools.employees as emp\n",
                "left join w3schools.orders as ord on emp.EmployeeID = ord.EmployeeID\n",
                "left join w3schools.order_details as odd on odd.OrderID = ord.OrderID\n",
                "left join w3schools.products as prd on odd.productid = prd.ProductID\n",
                "left join w3schools.categories as cat on prd.CategoryID = cat.CategoryID\n",
                "where cat.CategoryName = \"beverages\"\n",
                "GROUP BY emp.employeeid\n",
                "ORDER BY Sold_Most_Beverages DESC\n",
                "limit 10;"
            ],
            "metadata": {
                "language": "sql",
                "azdata_cell_guid": "27824225-afe6-44a5-af92-51ccac3bf88d"
            },
            "outputs": [
                {
                    "output_type": "display_data",
                    "data": {
                        "text/html": "(9 row(s) affected)"
                    },
                    "metadata": {}
                },
                {
                    "output_type": "display_data",
                    "data": {
                        "text/html": "Total execution time: 00:00:01.011"
                    },
                    "metadata": {}
                },
                {
                    "output_type": "execute_result",
                    "metadata": {},
                    "execution_count": 14,
                    "data": {
                        "application/vnd.dataresource+json": {
                            "schema": {
                                "fields": [
                                    {
                                        "name": "Employee_FirstName"
                                    },
                                    {
                                        "name": "Employee_LastName"
                                    },
                                    {
                                        "name": "Sold_Most_Beverages"
                                    }
                                ]
                            },
                            "data": [
                                {
                                    "Employee_FirstName": "Margaret",
                                    "Employee_LastName": "Peacock",
                                    "Sold_Most_Beverages": "595"
                                },
                                {
                                    "Employee_FirstName": "Nancy",
                                    "Employee_LastName": "Davolio",
                                    "Sold_Most_Beverages": "357"
                                },
                                {
                                    "Employee_FirstName": "Robert",
                                    "Employee_LastName": "King",
                                    "Sold_Most_Beverages": "247"
                                },
                                {
                                    "Employee_FirstName": "Laura",
                                    "Employee_LastName": "Callahan",
                                    "Sold_Most_Beverages": "243"
                                },
                                {
                                    "Employee_FirstName": "Janet",
                                    "Employee_LastName": "Leverling",
                                    "Sold_Most_Beverages": "223"
                                },
                                {
                                    "Employee_FirstName": "Michael",
                                    "Employee_LastName": "Suyama",
                                    "Sold_Most_Beverages": "195"
                                },
                                {
                                    "Employee_FirstName": "Andrew",
                                    "Employee_LastName": "Fuller",
                                    "Sold_Most_Beverages": "151"
                                },
                                {
                                    "Employee_FirstName": "Anne",
                                    "Employee_LastName": "Dodsworth",
                                    "Sold_Most_Beverages": "143"
                                },
                                {
                                    "Employee_FirstName": "Steven",
                                    "Employee_LastName": "Buchanan",
                                    "Sold_Most_Beverages": "135"
                                }
                            ]
                        },
                        "text/html": [
                            "<table>",
                            "<tr><th>Employee_FirstName</th><th>Employee_LastName</th><th>Sold_Most_Beverages</th></tr>",
                            "<tr><td>Margaret</td><td>Peacock</td><td>595</td></tr>",
                            "<tr><td>Nancy</td><td>Davolio</td><td>357</td></tr>",
                            "<tr><td>Robert</td><td>King</td><td>247</td></tr>",
                            "<tr><td>Laura</td><td>Callahan</td><td>243</td></tr>",
                            "<tr><td>Janet</td><td>Leverling</td><td>223</td></tr>",
                            "<tr><td>Michael</td><td>Suyama</td><td>195</td></tr>",
                            "<tr><td>Andrew</td><td>Fuller</td><td>151</td></tr>",
                            "<tr><td>Anne</td><td>Dodsworth</td><td>143</td></tr>",
                            "<tr><td>Steven</td><td>Buchanan</td><td>135</td></tr>",
                            "</table>"
                        ]
                    }
                }
            ],
            "execution_count": 14
        }
    ]
}